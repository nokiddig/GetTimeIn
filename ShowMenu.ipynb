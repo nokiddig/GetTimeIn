{
 "cells": [
  {
   "cell_type": "code",
   "execution_count": null,
   "metadata": {},
   "outputs": [],
   "source": [
    "import sys\n",
    "import requests\n",
    "from io import BytesIO\n",
    "from PySide6.QtWidgets import QApplication, QWidget, QLabel, QVBoxLayout, QHBoxLayout\n",
    "from PySide6.QtGui import QPixmap, QImage\n",
    "from PIL import Image, ImageQt\n",
    "from datetime import datetime\n",
    "\n",
    "# API mẫu trả về danh sách dữ liệu\n",
    "day_str = datetime.now().strftime(\"%Y-%m-%d\")\n",
    "API_URL = \"http://107.113.53.166/\"\n",
    "MENU_API = f\"{API_URL}api/menu/get-menu?date={day_str}\"\n",
    "DEFAULT_IMAGE_URL = \"https://encrypted-tbn0.gstatic.com/images?q=tbn:ANd9GcSN0Y_SeJHZINmA_vwcN_rR71JW9wJXegQWiA&s\"\n",
    "\n",
    "class ShowMenuWindow(QWidget):\n",
    "    def __init__(self):\n",
    "        super().__init__()\n",
    "        self.width = 900\n",
    "        self.height = 300\n",
    "        self.col_width = 150\n",
    "        self.setWindowTitle(\"API Data Viewer with Images\")\n",
    "        self.setGeometry(100, 100, self.width, self.height)\n",
    "\n",
    "        # Layout chính\n",
    "        self.main_layout = QVBoxLayout()\n",
    "        self.setLayout(self.main_layout)\n",
    "\n",
    "    def fetch_data(self):\n",
    "        \"\"\" Gửi request đến API và hiển thị dữ liệu \"\"\"\n",
    "        try:\n",
    "            value_field = \"value\"\n",
    "            response = requests.get(MENU_API, verify=False)\n",
    "            response.raise_for_status()\n",
    "            data = response.json()[value_field]\n",
    "            self.display_data(data)\n",
    "        except requests.exceptions.RequestException as e:\n",
    "            print(f\"Failed to fetch data: {e}\")\n",
    "\n",
    "    def display_data(self, data_list):\n",
    "        \"\"\" Hiển thị ảnh và thông tin API lên giao diện \"\"\"\n",
    "        image_layout = QHBoxLayout()\n",
    "        text_layout = QHBoxLayout()\n",
    "\n",
    "        for data in data_list:\n",
    "            # Tải ảnh từ URL\n",
    "            try:\n",
    "                image_url = data[\"image\"] \n",
    "                img_response = requests.get(f\"{API_URL}{image_url}\", verify=False)\n",
    "            except Exception as e:\n",
    "                img_response = requests.get(DEFAULT_IMAGE_URL, verify=False)\n",
    "            img_data = img_response.content\n",
    "            \n",
    "            # Mở ảnh bằng PIL, resize và chuyển thành QImage\n",
    "            img = Image.open(BytesIO(img_data))\n",
    "            img = img.resize((self.col_width, self.col_width))  # Resize ảnh\n",
    "            img = img.convert(\"RGBA\")  # Đảm bảo ảnh có kênh alpha (nếu cần)\n",
    "\n",
    "            # Chuyển ảnh từ PIL sang QImage\n",
    "            img_qt = QImage(img.tobytes(), img.width, img.height, QImage.Format_RGBA8888)\n",
    "\n",
    "            # Chuyển QImage sang QPixmap\n",
    "            pixmap = QPixmap.fromImage(img_qt)\n",
    "\n",
    "            # Hiển thị ảnh\n",
    "            img_label = QLabel(self)\n",
    "            img_label.setPixmap(pixmap)\n",
    "            image_layout.addWidget(img_label)\n",
    "\n",
    "            # Hiển thị thông tin API\n",
    "            info_text = f\"Corner: {data['corner']}\\nMain: {data['main']}\\nDishes: {data['dishes']}\\nKcal: {data['kcal']}\"\n",
    "            info_label = QLabel(info_text, self)\n",
    "            info_label.setWordWrap(True)\n",
    "            info_label.setFixedWidth(self.col_width)  # Giữ văn bản không bị tràn\n",
    "            text_layout.addWidget(info_label)\n",
    "\n",
    "        self.main_layout.addLayout(image_layout)\n",
    "        self.main_layout.addLayout(text_layout)\n",
    "\n",
    "    def show(self):\n",
    "        super().show()\n",
    "        self.fetch_data()\n"
   ]
  },
  {
   "cell_type": "code",
   "execution_count": null,
   "metadata": {},
   "outputs": [
    {
     "data": {
      "text/plain": [
       "0"
      ]
     },
     "execution_count": 2,
     "metadata": {},
     "output_type": "execute_result"
    }
   ],
   "source": [
    "# app = QApplication(sys.argv)\n",
    "# lunch_menu = ShowMenuWindow()\n",
    "# lunch_menu.show()\n",
    "# app.exec()"
   ]
  }
 ],
 "metadata": {
  "kernelspec": {
   "display_name": "Python 3",
   "language": "python",
   "name": "python3"
  },
  "language_info": {
   "codemirror_mode": {
    "name": "ipython",
    "version": 3
   },
   "file_extension": ".py",
   "mimetype": "text/x-python",
   "name": "python",
   "nbconvert_exporter": "python",
   "pygments_lexer": "ipython3",
   "version": "3.12.4"
  }
 },
 "nbformat": 4,
 "nbformat_minor": 2
}
