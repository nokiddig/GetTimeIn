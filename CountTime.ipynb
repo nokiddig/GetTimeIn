{
 "cells": [
  {
   "cell_type": "code",
   "execution_count": null,
   "metadata": {},
   "outputs": [
    {
     "name": "stdout",
     "output_type": "stream",
     "text": [
      "Start time set to: 07:03\n",
      "09:00:00\n",
      "Not late.\n",
      "Morning lunch time: 12:27\n",
      "09:00:00\n",
      "Not late.\n",
      "Morning end time: 11:27\n",
      "13:00:00\n",
      "Not late.\n",
      "Afternoon end time: 05:24\n",
      "09:00:00\n",
      "Not late.\n",
      "Full time end time: 16:51\n",
      "0:00:00\n"
     ]
    }
   ],
   "source": [
    "from datetime import time, timedelta, datetime\n",
    "\n",
    "FULL_DAY = 0\n",
    "MORNING = 1\n",
    "MORNING_LUNCH = 2\n",
    "AFTERNOON = 3\n",
    "\n",
    "class TimeCalculator:\n",
    "    def __init__(self):\n",
    "        self.start_time: time = datetime.now().time\n",
    "        self.late: timedelta = None\n",
    "        self.time_type = FULL_DAY\n",
    "        self.end_time = None\n",
    "\n",
    "    def set_start_time(self, hour: int, minute: int):\n",
    "        if 0 <= hour < 24 and 0 <= minute < 60:\n",
    "            self.start_time = time(hour, minute)\n",
    "            print(f\"Start time set to: {self.start_time.strftime('%H:%M')}\")\n",
    "        else:\n",
    "            raise ValueError(\"Invalid hour or minute. Hour must be between 0-23 and minute between 0-59.\")\n",
    "\n",
    "    def cal_late(self, type=FULL_DAY):\n",
    "        if self.start_time is None:\n",
    "            raise ValueError(\"You need to set the start time before calculating the full time end.\")\n",
    "        valid_time = time(9, 0)\n",
    "        if type == AFTERNOON:\n",
    "            valid_time = time(13, 0)\n",
    "        print(valid_time)\n",
    "        if self.start_time > valid_time:\n",
    "            valid_minutes = valid_time.hour * 60 + valid_time.minute\n",
    "            start_minutes = self.start_time.hour * 60 + self.start_time.minute\n",
    "            self.late = timedelta(minutes=start_minutes - valid_minutes)\n",
    "            print(f\"Late by: {self.late}\")\n",
    "        else:\n",
    "            self.late = timedelta(0)\n",
    "            print(\"Not late.\")\n",
    "\n",
    "    def add_time(self, base_time: time, hours: int, minutes: int) -> time:\n",
    "        \"\"\"Helper method to add hours and minutes to a time object.\"\"\"\n",
    "        total_minutes = base_time.hour * 60 + base_time.minute + hours * 60 + minutes\n",
    "        total_minutes %= 24 * 60  # Ensure the time wraps around 24 hours\n",
    "        return time(total_minutes // 60, total_minutes % 60)\n",
    "\n",
    "    def process_time_over(self):\n",
    "        lastest_time = time(18, 48)\n",
    "        if self.end_time > lastest_time:\n",
    "            self.end_time = lastest_time\n",
    "\n",
    "    def cal_end_time(self, type=FULL_DAY):\n",
    "        self.cal_late(type)\n",
    "        if type == MORNING:\n",
    "            work_hours = 4\n",
    "            work_minutes = 24\n",
    "        elif type == MORNING_LUNCH:\n",
    "            work_hours = 5\n",
    "            work_minutes = 24\n",
    "        elif type == AFTERNOON:\n",
    "            self.end_time = time(5, 24)\n",
    "            return self.end_time.strftime('%H:%M')\n",
    "        else:\n",
    "            work_hours = 9\n",
    "            work_minutes = 48\n",
    "        self.end_time = self.add_time(self.start_time, work_hours, work_minutes)\n",
    "        self.process_time_over()\n",
    "        return self.end_time.strftime('%H:%M')"
   ]
  }
 ],
 "metadata": {
  "kernelspec": {
   "display_name": "Python 3",
   "language": "python",
   "name": "python3"
  },
  "language_info": {
   "codemirror_mode": {
    "name": "ipython",
    "version": 3
   },
   "file_extension": ".py",
   "mimetype": "text/x-python",
   "name": "python",
   "nbconvert_exporter": "python",
   "pygments_lexer": "ipython3",
   "version": "3.12.5"
  }
 },
 "nbformat": 4,
 "nbformat_minor": 2
}
