{
 "cells": [
  {
   "cell_type": "code",
   "execution_count": 1,
   "metadata": {},
   "outputs": [],
   "source": [
    "import requests\n",
    "import tkinter as tk\n",
    "from tkinter import Label\n",
    "from PIL import Image, ImageTk\n",
    "from io import BytesIO\n",
    "\n",
    "# API mẫu trả về danh sách dữ liệu\n",
    "API_URL = \"https://jsonplaceholder.typicode.com/todos?_limit=6\"\n",
    "\n",
    "# URL ảnh mẫu\n",
    "IMAGE_URL = \"https://encrypted-tbn0.gstatic.com/images?q=tbn:ANd9GcSN0Y_SeJHZINmA_vwcN_rR71JW9wJXegQWiA&s\"\n",
    "\n",
    "# Hàm gửi request đến API và hiển thị dữ liệu\n",
    "def fetch_data(root):\n",
    "    try:\n",
    "        response = requests.get(API_URL)\n",
    "        response.raise_for_status()\n",
    "        data = response.json()\n",
    "        display_data(data, root=root)\n",
    "    except requests.exceptions.RequestException as e:\n",
    "        print(f\"Failed to fetch data: {e}\")\n",
    "\n",
    "# Hàm hiển thị ảnh và thông tin lên giao diện\n",
    "def display_data(data_list, root):\n",
    "    for idx, data in enumerate(data_list):\n",
    "        # Tải ảnh từ URL\n",
    "        img_response = requests.get(IMAGE_URL)\n",
    "        img_data = img_response.content\n",
    "        img = Image.open(BytesIO(img_data))\n",
    "        img = img.resize((100, 100))  # Resize ảnh\n",
    "        photo = ImageTk.PhotoImage(img)\n",
    "\n",
    "        # Hiển thị ảnh\n",
    "        img_label = Label(root, image=photo)\n",
    "        img_label.image = photo  # Lưu tham chiếu để tránh bị xóa\n",
    "        img_label.grid(row=0, column=idx, padx=10, pady=10)\n",
    "\n",
    "        # Hiển thị thông tin API\n",
    "        info_text = f\"ID: {data['id']}\\nTitle: {data['title']}\\nCompleted: {data['completed']}\"\n",
    "        info_label = Label(root, text=info_text, wraplength=100, justify=\"center\")\n",
    "        info_label.grid(row=1, column=idx, padx=10, pady=10)\n",
    "\n",
    "def show_menu():\n",
    "    # Tạo cửa sổ chính\n",
    "    root_menu = tk.Tk()\n",
    "    root_menu.title(\"API Data Viewer with Images\")\n",
    "    root_menu.geometry(\"800x300\")\n",
    "\n",
    "    fetch_data(root= root_menu)\n",
    "\n",
    "    # Chạy vòng lặp giao diện\n",
    "    root_menu.mainloop()"
   ]
  },
  {
   "cell_type": "code",
   "execution_count": null,
   "metadata": {},
   "outputs": [],
   "source": [
    "show_menu()"
   ]
  }
 ],
 "metadata": {
  "kernelspec": {
   "display_name": "Python 3",
   "language": "python",
   "name": "python3"
  },
  "language_info": {
   "codemirror_mode": {
    "name": "ipython",
    "version": 3
   },
   "file_extension": ".py",
   "mimetype": "text/x-python",
   "name": "python",
   "nbconvert_exporter": "python",
   "pygments_lexer": "ipython3",
   "version": "3.12.5"
  }
 },
 "nbformat": 4,
 "nbformat_minor": 2
}
