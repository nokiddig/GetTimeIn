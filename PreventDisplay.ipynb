{
 "cells": [
  {
   "cell_type": "code",
   "execution_count": null,
   "metadata": {},
   "outputs": [
    {
     "name": "stdout",
     "output_type": "stream",
     "text": [
      "Mouse moved at 15:09:01\n"
     ]
    }
   ],
   "source": [
    "import pyautogui\n",
    "import time\n",
    "import threading\n",
    "\n",
    "class MouseMoverApp:\n",
    "    def __init__(self):\n",
    "        self.is_running = False\n",
    "        self.move_thread = None\n",
    "\n",
    "    def move_mouse_every_minute(self):\n",
    "        \"\"\"Di chuyển chuột mỗi phút nếu is_running là True.\"\"\"\n",
    "        while self.is_running:\n",
    "            current_position = pyautogui.position()\n",
    "            pyautogui.move(1, 0, duration=0.1)  # Di chuyển sang phải\n",
    "            pyautogui.move(-1, 0, duration=0.1)  # Di chuyển về vị trí cũ\n",
    "            print(f\"Mouse moved at {time.strftime('%H:%M:%S')}\")\n",
    "            time.sleep(60)\n",
    "\n",
    "    def start_moving(self):\n",
    "        \"\"\"Bắt đầu di chuyển chuột.\"\"\"\n",
    "        if not self.is_running:\n",
    "            self.is_running = True\n",
    "            # Chạy di chuyển chuột trong luồng khác để không làm đơ giao diện\n",
    "            self.move_thread = threading.Thread(target=self.move_mouse_every_minute)\n",
    "            self.move_thread.daemon = True\n",
    "            self.move_thread.start()\n",
    "\n",
    "    def stop_moving(self):\n",
    "        \"\"\"Dừng di chuyển chuột.\"\"\"\n",
    "        self.is_running = False"
   ]
  }
 ],
 "metadata": {
  "kernelspec": {
   "display_name": "Python 3",
   "language": "python",
   "name": "python3"
  },
  "language_info": {
   "codemirror_mode": {
    "name": "ipython",
    "version": 3
   },
   "file_extension": ".py",
   "mimetype": "text/x-python",
   "name": "python",
   "nbconvert_exporter": "python",
   "pygments_lexer": "ipython3",
   "version": "3.12.5"
  }
 },
 "nbformat": 4,
 "nbformat_minor": 2
}
