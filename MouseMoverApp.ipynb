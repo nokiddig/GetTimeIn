{
 "cells": [
  {
   "cell_type": "code",
   "execution_count": null,
   "metadata": {},
   "outputs": [],
   "source": [
    "import pyautogui\n",
    "import time\n",
    "import threading\n",
    "from pynput.mouse import Controller, Button\n",
    "\n",
    "class MouseMoverApp:\n",
    "    def __init__(self):\n",
    "        self.is_running = False\n",
    "        self.move_thread = None\n",
    "\n",
    "    def move_mouse_every_minute(self, milisecond = 299):\n",
    "        \"\"\"Di chuyển chuột mỗi phút nếu is_running là True.\"\"\"\n",
    "        mouse = Controller()\n",
    "        while self.is_running:\n",
    "            mouse.scroll(0, 1)\n",
    "            time.sleep(0.001)\n",
    "            mouse.scroll(0, -1)\n",
    "            time.sleep(milisecond)\n",
    "\n",
    "    def start_moving(self):\n",
    "        \"\"\"Bắt đầu di chuyển chuột.\"\"\"\n",
    "        if not self.is_running:\n",
    "            self.is_running = True\n",
    "            # Chạy di chuyển chuột trong luồng khác để không làm đơ giao diện\n",
    "            self.move_thread = threading.Thread(target=self.move_mouse_every_minute)\n",
    "            self.move_thread.daemon = True\n",
    "            self.move_thread.start()\n",
    "\n",
    "    def stop_moving(self):\n",
    "        \"\"\"Dừng di chuyển chuột.\"\"\"\n",
    "        self.is_running = False"
   ]
  }
 ],
 "metadata": {
  "kernelspec": {
   "display_name": "Python 3",
   "language": "python",
   "name": "python3"
  },
  "language_info": {
   "codemirror_mode": {
    "name": "ipython",
    "version": 3
   },
   "file_extension": ".py",
   "mimetype": "text/x-python",
   "name": "python",
   "nbconvert_exporter": "python",
   "pygments_lexer": "ipython3",
   "version": "3.12.5"
  }
 },
 "nbformat": 4,
 "nbformat_minor": 2
}
